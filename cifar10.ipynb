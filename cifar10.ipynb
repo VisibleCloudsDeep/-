{
 "cells": [
  {
   "cell_type": "code",
   "execution_count": 2,
   "id": "af4cf470-a634-4303-8ed3-6b94c4020c69",
   "metadata": {},
   "outputs": [],
   "source": [
    "root = './train_data'"
   ]
  },
  {
   "cell_type": "code",
   "execution_count": 3,
   "id": "4bb270b4-ce5d-471a-9a46-5332c8610523",
   "metadata": {},
   "outputs": [],
   "source": [
    "import torch\n",
    "import torchvision\n",
    "import time\n",
    "from sklearn.metrics import confusion_matrix\n",
    "import matplotlib.pyplot as plt\n",
    "import seaborn as sns\n",
    "from torch.utils.tensorboard import SummaryWriter"
   ]
  },
  {
   "cell_type": "code",
   "execution_count": 6,
   "id": "7a8dc5f4-f8b8-42e0-9e92-8e6dd2c239d8",
   "metadata": {},
   "outputs": [],
   "source": [
    "def get_device():\n",
    "    ''' Get device (if GPU is available, use GPU) '''\n",
    "    return 'cuda' if torch.cuda.is_available() else 'cpu'"
   ]
  },
  {
   "cell_type": "markdown",
   "id": "13bdf1cb-4cb4-482c-bca4-e8d83a1b7eea",
   "metadata": {},
   "source": [
    "Setup Hyper-parameters "
   ]
  },
  {
   "cell_type": "code",
   "execution_count": 7,
   "id": "29596169-05b5-4000-8067-7a9f6bd43e16",
   "metadata": {},
   "outputs": [],
   "source": [
    "writer = SummaryWriter('./log')"
   ]
  },
  {
   "cell_type": "code",
   "execution_count": 8,
   "id": "826fa2f7-ebfb-4f5e-8cb2-09e26d0c7fbf",
   "metadata": {},
   "outputs": [],
   "source": [
    "config = {\n",
    "    'n_epochs': 100,                # maximum number of epochs\n",
    "    'batch_size': 128,               # mini-batch size for dataloader\n",
    "    'optimizer': 'SGD',              # optimization algorithm (optimizer in torch.optim)\n",
    "    'optim_hparas': {                # hyper-parameters for the optimizer (depends on which optimizer you are using)\n",
    "        'lr': 0.1,                 # learning rate of SGD\n",
    "        'momentum': 0.4              # momentum for SGD\n",
    "    },\n",
    "    'save_path': './models_ReLU3/model.pth'  # your model will be saved here\n",
    "}"
   ]
  },
  {
   "cell_type": "code",
   "execution_count": 9,
   "id": "6a69f0b4-4f4e-4e3d-b844-29974b4ae1f8",
   "metadata": {},
   "outputs": [],
   "source": [
    "transform = torchvision.transforms.Compose([\n",
    "    torchvision.transforms.Resize(40),\n",
    "    torchvision.transforms.RandomResizedCrop(32, scale=(0.64, 1.0), ratio=(1.0, 1.0)),\n",
    "    torchvision.transforms.RandomHorizontalFlip(),\n",
    "    torchvision.transforms.ToTensor(),\n",
    "    torchvision.transforms.Normalize([0.4914, 0.4822,0.4465], [0.2023,0.1994,0.2010])\n",
    "])\n",
    "\n",
    "\n",
    "cifar10 = torchvision.datasets.CIFAR10(root= root ,\n",
    "                            train=True,\n",
    "                            download=False,\n",
    "                            transform=transform)\n",
    "\n",
    "cifar10_test = torchvision.datasets.CIFAR10(root= root ,\n",
    "                            train=False,\n",
    "                            download=False,\n",
    "                            transform=transform)"
   ]
  },
  {
   "cell_type": "code",
   "execution_count": 10,
   "id": "8bb4c1b9-6c99-447f-9b74-a79bcba7492f",
   "metadata": {},
   "outputs": [],
   "source": [
    "train_loader= torch.utils.data.DataLoader(cifar10, batch_size=config['batch_size'],shuffle=True)\n",
    "\n",
    "test_loader= torch.utils.data.DataLoader(cifar10_test, batch_size=config['batch_size'], shuffle=True)"
   ]
  },
  {
   "cell_type": "code",
   "execution_count": 11,
   "id": "e3b11f28-955d-4e12-b7c6-3373eb0c3114",
   "metadata": {},
   "outputs": [],
   "source": [
    "class MLP(torch.nn.Module):\n",
    "    def __init__(self, num_i, num_h1,num_h2, num_h3,num_o):\n",
    "        super(MLP, self).__init__()\n",
    "        \n",
    "        self.linear1 = torch.nn.Linear(num_i, num_h1) #输入层到第一层隐藏层的线性转换\n",
    "        self.linear2 = torch.nn.Linear(num_h1, num_h2)\n",
    "        self.linear3 = torch.nn.Linear(num_h2, num_h3)\n",
    "        self.linear4 = torch.nn.Linear(num_h3, num_o)\n",
    "        self.relu = torch.nn.ReLU()\n",
    "               \n",
    "    def forward(self, x):\n",
    "        x = self.linear1(x)\n",
    "        x = self.relu(x)\n",
    "        \n",
    "        x = self.linear2(x)\n",
    "        x = self.relu(x)\n",
    "        \n",
    "        x =self.linear3(x)\n",
    "        x = self.relu(x)\n",
    "        \n",
    "        x = self.linear4(x) \n",
    "        return x"
   ]
  },
  {
   "cell_type": "code",
   "execution_count": 12,
   "id": "aa5d14af-de5c-4928-9d3f-0689937ca51f",
   "metadata": {},
   "outputs": [],
   "source": [
    "def train(model, train_loader,device, epoch, epochs):\n",
    "    loss_func = torch.nn. CrossEntropyLoss()\n",
    "    # optimizer = torch.optim.Adam(model.parameters())\n",
    "   \n",
    "    # Setup optimizer\n",
    "    optimizer = getattr(torch.optim, config['optimizer'])(\n",
    "        model.parameters(), **config['optim_hparas'])\n",
    "    \n",
    "    epoch = epoch\n",
    "    epochs =epochs\n",
    "    sum_loss =0\n",
    "    train_correct = 0\n",
    "    \n",
    "    for data in train_loader:\n",
    "        inputs, labels= data\n",
    "        inputs = torch.flatten(inputs, start_dim=1)\n",
    "        inputs , labels= inputs.to(device), labels.to(device)\n",
    "        optimizer.zero_grad()\n",
    "        outputs = model(inputs)\n",
    "        loss = loss_func(outputs, labels)\n",
    "        loss.backward()\n",
    "        optimizer.step()\n",
    "     \n",
    "        _, id = torch.max(outputs.data ,1)\n",
    "        sum_loss += loss.data\n",
    "        train_correct += torch.sum(id == labels.data)\n",
    "               \n",
    "    print('[%d/%d] loss:%.3f, correct:%.3f%%, time:%s' %\n",
    "        (epoch+1 , epochs , sum_loss/len(train_loader),\n",
    "        100 * train_correct / len(cifar10),\n",
    "        time.strftime('%Y-%m-%d %H:%M:%S', time.localtime())))\n",
    "    \n",
    "    writer.add_scalar('Loss/train', sum_loss/len(train_loader), epoch)\n",
    "    writer.add_scalar('Accuracy/train', 100 * train_correct / len(cifar10), epoch)\n",
    "        "
   ]
  },
  {
   "cell_type": "code",
   "execution_count": 13,
   "id": "609715f1-0ced-410d-a1f3-01e69815dd8e",
   "metadata": {},
   "outputs": [],
   "source": [
    "def test(model, test_loader,device,epoch):\n",
    "    test_correct = 0\n",
    "    \n",
    "    epoch = epoch\n",
    "    model.eval()\n",
    "    with torch.no_grad():\n",
    "        for data in test_loader:\n",
    "            inputs, labels =data \n",
    "            inputs, labels = inputs.to(device),labels.to(device)\n",
    "            inputs = torch.flatten(inputs, start_dim=1)\n",
    "            outputs = model(inputs)\n",
    "            \n",
    "            _,id = torch.max(outputs.data, 1)\n",
    "            test_correct += torch.sum(id == labels.data)\n",
    "            \n",
    "        print(f'Accuracy on test set:{100*test_correct / len(cifar10_test):.3f}%')\n",
    "     \n",
    "    writer.add_scalar('Accuracy/validation', 100*test_correct / len(cifar10_test), epoch)\n",
    "    return test_correct"
   ]
  },
  {
   "cell_type": "code",
   "execution_count": 14,
   "id": "c8468bd1-2ead-40ad-801f-cefd13283998",
   "metadata": {},
   "outputs": [],
   "source": [
    "def main(model, train_loader, test_loader, device, n_epochs, save_path):\n",
    "    max_test_correct = 0\n",
    "    \n",
    "    epochs =  n_epochs\n",
    "    save_path = save_path\n",
    "    \n",
    "    for epoch in range(epochs):\n",
    "        train(model, train_loader,device, epoch ,epochs)\n",
    "    \n",
    "        test_correct = test(model, test_loader, device, epoch)\n",
    "        test_accuracy = 100*test_correct / len(cifar10_test)\n",
    "        test_accuracy_str = \"{:.3f}\".format(test_accuracy)\n",
    "    \n",
    "        if test_correct > max_test_correct :      #选取相较之前在测试集上表现较好的模型进行保存\n",
    "            max_test_correct = test_correct\n",
    "            save_path_with_accuracy = save_path[:-4]+'_'+ test_accuracy_str + '%'+save_path[-4:]\n",
    "            torch.save(model.state_dict(),save_path_with_accuracy)\n",
    "    "
   ]
  },
  {
   "cell_type": "code",
   "execution_count": 15,
   "id": "a5ec31ee-4d3c-4460-8d1c-c547bd6976a8",
   "metadata": {},
   "outputs": [],
   "source": [
    "device = get_device()\n",
    "model = MLP(3072, 1024, 128,64, 10).to(device)"
   ]
  },
  {
   "cell_type": "code",
   "execution_count": null,
   "id": "669f0d4e-e35c-49d5-9879-eeacc0af01ab",
   "metadata": {},
   "outputs": [],
   "source": [
    "main(model, train_loader,test_loader, device, config['n_epochs'],config['save_path'])"
   ]
  },
  {
   "cell_type": "code",
   "execution_count": 17,
   "id": "47c13d9d-b17f-4382-85c4-48caf8100a67",
   "metadata": {},
   "outputs": [
    {
     "name": "stdout",
     "output_type": "stream",
     "text": [
      "Accuracy on test set:59.250%\n"
     ]
    }
   ],
   "source": [
    "trained_model = MLP(3072, 1024, 128,64, 10).to(device)\n",
    "trained_model.load_state_dict(torch.load('./model_pth/model_58.980%.pth'))  \n",
    "\n",
    "training_labels = []\n",
    "model_pre_train = []\n",
    "\n",
    "testing_labels = []\n",
    "model_pre_test = []\n",
    "\n",
    "test_correct = 0\n",
    "with torch.no_grad():\n",
    "    for data in train_loader:\n",
    "        inputs, labels =data\n",
    "        inputs, labels = inputs.to(device), labels.to(device)\n",
    "        inputs = torch.flatten(inputs, start_dim=1)\n",
    "        outputs = trained_model(inputs)\n",
    "        _, id = torch.max(outputs.data ,1)\n",
    "        training_labels = training_labels + labels.tolist()\n",
    "        model_pre_train = model_pre_train + id.tolist()\n",
    "        \n",
    "    for data in test_loader:\n",
    "        inputs, labels =data \n",
    "        inputs, labels = inputs.to(device),labels.to(device)\n",
    "        inputs = torch.flatten(inputs, start_dim=1)\n",
    "        outputs = trained_model(inputs)        \n",
    "        _,id = torch.max(outputs.data, 1)          \n",
    "        testing_labels = testing_labels + labels.tolist()\n",
    "        model_pre_test = model_pre_test + id.tolist()\n",
    "        \n",
    "        test_correct += torch.sum(id == labels.data)\n",
    "            \n",
    "    print(f'Accuracy on test set:{100*test_correct / len(cifar10_test):.3f}%')"
   ]
  },
  {
   "cell_type": "code",
   "execution_count": null,
   "id": "670d726c-89e9-498f-924b-0192a77cdc9b",
   "metadata": {},
   "outputs": [],
   "source": [
    "##可视化在训练数据和验证数据上的混淆矩阵\n",
    "train_confm = confusion_matrix(training_labels, model_pre_train)\n",
    "val_confm = confusion_matrix(testing_labels, model_pre_test)\n",
    "\n",
    "plt.figure(figsize=(12,5))\n",
    "plt.subplot(1,2,1)\n",
    "sns.heatmap(train_confm, square=True, annot=True, fmt='d',\n",
    "           cbar=False, cmap=\"YlGnBu\")\n",
    "\n",
    "plt.xlabel(\"Real label\")              #真实的标签\n",
    "plt.ylabel(\"Predicted label\")               #预测的标签\n",
    "plt.title(\"Confusion matrix (training dataset)\")            #混淆矩阵（训练集）\n",
    "plt.subplot(1,2,2)\n",
    "sns.heatmap(val_confm, square=True, annot=True, fmt='d',\n",
    "           cbar=False, cmap=\"YlGnBu\")\n",
    "\n",
    "plt.xlabel(\"Real label\")                     #真实的标签\n",
    "plt.ylabel(\"Predicted label\")                          #预测的标签\n",
    "plt.title(\"Confusion matrix (validation set)\")         #混淆矩阵（验证集）\n",
    "plt.tight_layout()\n",
    "plt.show()"
   ]
  },
  {
   "cell_type": "code",
   "execution_count": 18,
   "id": "02f4aaf1-73e1-426b-9214-7fa7020a8b46",
   "metadata": {},
   "outputs": [
    {
     "name": "stdout",
     "output_type": "stream",
     "text": [
      "MLP(\n",
      "  (linear1): Linear(in_features=3072, out_features=1024, bias=True)\n",
      "  (linear2): Linear(in_features=1024, out_features=128, bias=True)\n",
      "  (linear3): Linear(in_features=128, out_features=64, bias=True)\n",
      "  (linear4): Linear(in_features=64, out_features=10, bias=True)\n",
      "  (relu): ReLU()\n",
      ")\n"
     ]
    }
   ],
   "source": [
    "print(trained_model)"
   ]
  },
  {
   "cell_type": "code",
   "execution_count": null,
   "id": "a411fbae-4821-40cf-a2cb-69ecf7c2efce",
   "metadata": {},
   "outputs": [],
   "source": []
  }
 ],
 "metadata": {
  "kernelspec": {
   "display_name": "Python 3 (ipykernel)",
   "language": "python",
   "name": "python3"
  },
  "language_info": {
   "codemirror_mode": {
    "name": "ipython",
    "version": 3
   },
   "file_extension": ".py",
   "mimetype": "text/x-python",
   "name": "python",
   "nbconvert_exporter": "python",
   "pygments_lexer": "ipython3",
   "version": "3.9.15"
  }
 },
 "nbformat": 4,
 "nbformat_minor": 5
}
